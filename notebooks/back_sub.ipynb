{
 "cells": [
  {
   "cell_type": "code",
   "execution_count": 15,
   "metadata": {},
   "outputs": [],
   "source": [
    "import numpy as np\n",
    "import cv2"
   ]
  },
  {
   "cell_type": "code",
   "execution_count": 16,
   "metadata": {},
   "outputs": [],
   "source": [
    "# read video\n",
    "cap = cv2.VideoCapture('../input/movie/raw/bacteria.mp4')\n",
    "\n",
    "# algorithm\n",
    "model_dict = { \n",
    "    'CNT': cv2.bgsegm.createBackgroundSubtractorCNT(), \n",
    "    'CMG': cv2.bgsegm.createBackgroundSubtractorGMG(),\n",
    "    'GSOC': cv2.bgsegm.createBackgroundSubtractorGSOC(),\n",
    "    'LSBP': cv2.bgsegm.createBackgroundSubtractorLSBP(),\n",
    "    'MOG': cv2.bgsegm.createBackgroundSubtractorMOG(),\n",
    "    'KNN': cv2.createBackgroundSubtractorKNN(),\n",
    "    'MOG2': cv2.createBackgroundSubtractorMOG2()\n",
    "}\n",
    "\n",
    "# config\n",
    "width = int(cap.get(cv2.CAP_PROP_FRAME_WIDTH))\n",
    "height = int(cap.get(cv2.CAP_PROP_FRAME_HEIGHT))\n",
    "fps = cap.get(cv2.CAP_PROP_FPS)\n",
    "fourcc = cv2.VideoWriter_fourcc(*'MP4V')\n",
    "writer = cv2.VideoWriter(\n",
    "    '../output/movie/output.mp4',\n",
    "    fourcc,\n",
    "    fps,\n",
    "    (width, height),\n",
    "    isColor = False\n",
    ")\n",
    "\n",
    "while True:\n",
    "    ret, frame = cap.read()\n",
    "    if not ret:\n",
    "        break\n",
    "\n",
    "    model = model_dict['KNN']\n",
    "\n",
    "    mask = model.apply(frame)\n",
    "\n",
    "    cv2.imshow('Mask', mask)\n",
    "\n",
    "    writer.write(mask)\n",
    "\n",
    "    k = cv2.waitKey(30) & 0xff\n",
    "    if k == 27:\n",
    "        break\n",
    "\n",
    "cap.release()\n",
    "writer.release()\n",
    "cv2.destroyAllWindows()"
   ]
  }
 ],
 "metadata": {
  "kernelspec": {
   "display_name": "Python 3.9.7 ('base')",
   "language": "python",
   "name": "python3"
  },
  "language_info": {
   "codemirror_mode": {
    "name": "ipython",
    "version": 3
   },
   "file_extension": ".py",
   "mimetype": "text/x-python",
   "name": "python",
   "nbconvert_exporter": "python",
   "pygments_lexer": "ipython3",
   "version": "3.9.7"
  },
  "orig_nbformat": 4,
  "vscode": {
   "interpreter": {
    "hash": "24c1640307f24a58a0fa2f094f9233c094312f72655a74c470e0955fca66f830"
   }
  }
 },
 "nbformat": 4,
 "nbformat_minor": 2
}
